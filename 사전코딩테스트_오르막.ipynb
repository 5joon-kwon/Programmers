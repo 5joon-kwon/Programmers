{
 "cells": [
  {
   "cell_type": "code",
   "execution_count": null,
   "metadata": {},
   "outputs": [],
   "source": [
    "N = int(input())\n",
    "ary = [list(map(int, input().split())) for _ in range(N)]\n",
    "\n",
    "# 동적 계획법 배열 초기화 (최소를 구하는 문제이므로 큰 값으로 초기화)\n",
    "dp = [[float('inf')] * N for _ in range(N)]\n",
    "dp[0][0] = 0  # 시작점은 0\n",
    "\n",
    "# 동적 계획법을 이용해 최소 오르막 점수 계산\n",
    "for y in range(N):\n",
    "\tfor x in range(N):\n",
    "\t\t\tif x > 0:\t\t\t# 왼쪽에서 오는 경우\n",
    "\t\t\t\t\tdp[y][x] = min(dp[y][x], dp[y][x-1] + max(0, ary[y][x] - ary[y][x-1]))\n",
    "\t\t\tif y > 0:\t\t\t# 위에서 오는 경우\n",
    "\t\t\t\t\tdp[y][x] = min(dp[y][x], dp[y-1][x] + max(0, ary[y][x] - ary[y-1][x]))\n",
    "\n",
    "print(dp[N-1][N-1])\t# 오른쪽 아래 끝 점수 출력"
   ]
  }
 ],
 "metadata": {
  "language_info": {
   "name": "python"
  }
 },
 "nbformat": 4,
 "nbformat_minor": 2
}
