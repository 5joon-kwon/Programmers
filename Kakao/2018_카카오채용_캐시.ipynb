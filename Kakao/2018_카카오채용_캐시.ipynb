{
 "cells": [
  {
   "cell_type": "code",
   "execution_count": 1,
   "metadata": {},
   "outputs": [],
   "source": [
    "def solution(cacheSize, cities):\n",
    "    cache = []\n",
    "    time = 0\n",
    "    \n",
    "    if cacheSize == 0:  # cacheSize가 0이면 cities 요소 모두 miss 이므로 개수 x 5(시간)\n",
    "        time = len(cities) * 5\n",
    "    else:\n",
    "        for i in cities:\n",
    "            i = i.upper()\n",
    "            if i not in cache:              # cache안에 city 없는 경우\n",
    "                if len(cache) < cacheSize:  # cache가 가득차지 않은 경우\n",
    "                    cache.append(i)\n",
    "                    time += 5               # cache miss 이므로 +5(시간)\n",
    "                else:                       # cache가 가득 찬 경우\n",
    "                    cache.pop(0)            # cache의 첫번째 요소가 가장 오래전에 사용: 제거\n",
    "                    cache.append(i)         # 새롭게 city 추가\n",
    "                    time += 5\n",
    "            else:                           # cache안에 city 있는 경우\n",
    "                cache.pop(cache.index(i))   # city index 위치 제거\n",
    "                cache.append(i)             # 새롭게 city 추가\n",
    "                time += 1\n",
    "\n",
    "    return time"
   ]
  },
  {
   "cell_type": "code",
   "execution_count": 2,
   "metadata": {},
   "outputs": [
    {
     "data": {
      "text/plain": [
       "50"
      ]
     },
     "execution_count": 2,
     "metadata": {},
     "output_type": "execute_result"
    }
   ],
   "source": [
    "solution(3, [\"Jeju\", \"Pangyo\", \"Seoul\", \"NewYork\", \"LA\", \"Jeju\", \"Pangyo\", \"Seoul\", \"NewYork\", \"LA\"])"
   ]
  },
  {
   "cell_type": "code",
   "execution_count": 10,
   "metadata": {},
   "outputs": [],
   "source": [
    "from collections import deque               # deque를 이용해 보자\n",
    "\n",
    "def solution2(cacheSize, cities):\n",
    "    cache = deque(maxlen = cacheSize)       # deque는 최대 길이를 정할 수 있다는 장점\n",
    "                                            # cache(len) < cacheSize : 최대 길이를 넘어가면 자동으로 popleft() \n",
    "                                            # cacheSize == 0 : deque([]) 이렇게 존재하고 있음음\n",
    "    time = 0\n",
    "    \n",
    "    for i in cities:\n",
    "        i = i.lower()\n",
    "        if i not in cache:\n",
    "            cache.append(i)\n",
    "            time += 5\n",
    "        else:\n",
    "            cache.remove(i.index())\n",
    "            cache.append(i)\n",
    "            time += 1\n",
    "    \n",
    "    return time"
   ]
  },
  {
   "cell_type": "code",
   "execution_count": 11,
   "metadata": {},
   "outputs": [
    {
     "data": {
      "text/plain": [
       "50"
      ]
     },
     "execution_count": 11,
     "metadata": {},
     "output_type": "execute_result"
    }
   ],
   "source": [
    "solution2(3, [\"Jeju\", \"Pangyo\", \"Seoul\", \"NewYork\", \"LA\", \"Jeju\", \"Pangyo\", \"Seoul\", \"NewYork\", \"LA\"])"
   ]
  },
  {
   "cell_type": "code",
   "execution_count": 18,
   "metadata": {},
   "outputs": [
    {
     "name": "stdout",
     "output_type": "stream",
     "text": [
      "deque([2, 3, 4, 5, 6], maxlen=5)\n"
     ]
    }
   ],
   "source": [
    "b = deque( maxlen = 5)\n",
    "for i in range(7):\n",
    "    b.append(i)\n",
    "print(b)"
   ]
  },
  {
   "cell_type": "code",
   "execution_count": null,
   "metadata": {},
   "outputs": [],
   "source": []
  }
 ],
 "metadata": {
  "kernelspec": {
   "display_name": "Python 3",
   "language": "python",
   "name": "python3"
  },
  "language_info": {
   "codemirror_mode": {
    "name": "ipython",
    "version": 3
   },
   "file_extension": ".py",
   "mimetype": "text/x-python",
   "name": "python",
   "nbconvert_exporter": "python",
   "pygments_lexer": "ipython3",
   "version": "3.11.9"
  }
 },
 "nbformat": 4,
 "nbformat_minor": 2
}
