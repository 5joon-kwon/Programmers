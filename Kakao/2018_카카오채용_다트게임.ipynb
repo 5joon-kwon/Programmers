{
 "cells": [
  {
   "cell_type": "code",
   "execution_count": 141,
   "metadata": {},
   "outputs": [],
   "source": [
    "def solution(dartResult):\n",
    "    score = []\n",
    "    bonus = []\n",
    "    option = []\n",
    "    idx = 0\n",
    "    \n",
    "    for i in range(len(dartResult)):\n",
    "        if dartResult[i] == \"S\" or dartResult[i] == 'D' or dartResult[i] == 'T':\n",
    "            score.append(dartResult[idx:i])\n",
    "            bonus.append(dartResult[i])\n",
    "            idx = i + 1\n",
    "            if i == len(dartResult) - 1:\n",
    "                option.append('None')\n",
    "                break\n",
    "            elif dartResult[i+1] == '*' or dartResult[i+1] == '#':\n",
    "                option.append(dartResult[i+1])\n",
    "                idx = i + 2\n",
    "            else:\n",
    "                option.append('None')      \n",
    "        \n",
    "    sc = [0, 0, 0]\n",
    "    \n",
    "    for i in range(3):\n",
    "        if bonus[i] == 'S':\n",
    "            sc[i] += int(score[i])\n",
    "        elif bonus[i] == 'D':\n",
    "            sc[i] += int(score[i]) ** 2\n",
    "        else:\n",
    "            sc[i] += int(score[i]) ** 3\n",
    "            \n",
    "        if option[i] == '*':\n",
    "            if i == 0:\n",
    "                sc[i] *= 2\n",
    "            else:\n",
    "                sc[i] *= 2\n",
    "                sc[i - 1] *= 2\n",
    "                \n",
    "        elif option[i] == '#':\n",
    "            sc[i] *= (-1)    \n",
    "            \n",
    "    total = sc[0] + sc[1] + sc[2]\n",
    "    return total"
   ]
  },
  {
   "cell_type": "code",
   "execution_count": 142,
   "metadata": {},
   "outputs": [],
   "source": [
    "dartResult = \"1T2D3D#\""
   ]
  },
  {
   "cell_type": "code",
   "execution_count": 143,
   "metadata": {},
   "outputs": [
    {
     "data": {
      "text/plain": [
       "-4"
      ]
     },
     "execution_count": 143,
     "metadata": {},
     "output_type": "execute_result"
    }
   ],
   "source": [
    "solution(dartResult)"
   ]
  }
 ],
 "metadata": {
  "kernelspec": {
   "display_name": "Python 3",
   "language": "python",
   "name": "python3"
  },
  "language_info": {
   "codemirror_mode": {
    "name": "ipython",
    "version": 3
   },
   "file_extension": ".py",
   "mimetype": "text/x-python",
   "name": "python",
   "nbconvert_exporter": "python",
   "pygments_lexer": "ipython3",
   "version": "3.11.9"
  }
 },
 "nbformat": 4,
 "nbformat_minor": 2
}
