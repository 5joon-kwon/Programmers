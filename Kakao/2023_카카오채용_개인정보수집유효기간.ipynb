{
 "cells": [
  {
   "cell_type": "code",
   "execution_count": 11,
   "metadata": {},
   "outputs": [],
   "source": [
    "def solution(today, terms, privacies):\n",
    "    terms_list = []\n",
    "    privacies_list = []\n",
    "    answer = []\n",
    "    \n",
    "    for i in terms:\n",
    "        terms_list.append(i.split(' '))\n",
    "    \n",
    "    for i in privacies:\n",
    "        privacies_list.append(i.split( ))\n",
    "    \n",
    "    if(today[5] == '0'):\n",
    "        t_month = int(today[6])\n",
    "    else:\n",
    "        t_month = int(today[5:7])\n",
    "    \n",
    "    t_year = int(today[:4])\n",
    "\n",
    "    if(today[8] == '0'):\n",
    "        t_day = int(today[9])\n",
    "    else:\n",
    "        t_day = int(today[8:10])\n",
    "                \n",
    "    for idx, i in enumerate(privacies_list):\n",
    "        for j in terms_list:\n",
    "            year = int(i[0][:4])\n",
    "            \n",
    "            if(len(i[0][5]) == '0'):\n",
    "                month = int(i[0][6])\n",
    "            else:\n",
    "                month = int(i[0][5:7])\n",
    "            \n",
    "            if(len(i[0][8]) == '0'):\n",
    "                month = int(i[0][9])\n",
    "            else:\n",
    "                day = int(i[0][8:10])\n",
    "            \n",
    "            if i[1] == j[0]:\n",
    "                day -= 1\n",
    "                if(day == 0):\n",
    "                    day = 28\n",
    "                    month -= 1\n",
    "                if(month == 0):\n",
    "                    month = 12\n",
    "                    year -= 1 \n",
    "                \n",
    "                m = int(j[1]) % 12\n",
    "                mm = int(j[1]) // 12\n",
    "                    \n",
    "                month += m\n",
    "                year += mm\n",
    "                if(month > 12):\n",
    "                    year += 1\n",
    "                    month -= 12\n",
    "                \n",
    "                if(year < t_year and (idx+1 not in answer)):\n",
    "                    answer.append(idx+1)\n",
    "                elif(year == t_year and month < t_month and (idx+1 not in answer)):\n",
    "                    answer.append(idx+1)\n",
    "                elif(year == t_year and month == t_month and day < t_day and (idx+1 not in answer)):\n",
    "                    answer.append(idx+1)\n",
    "               \n",
    "    return answer"
   ]
  },
  {
   "cell_type": "code",
   "execution_count": 12,
   "metadata": {},
   "outputs": [],
   "source": [
    "today = \"2022.05.19\"\n",
    "terms = [\"A 6\", \"B 12\", \"C 3\"]\n",
    "privacies = [\"2021.05.02 A\", \"2021.07.01 B\", \"2022.02.19 C\", \"2022.02.20 C\"]"
   ]
  },
  {
   "cell_type": "code",
   "execution_count": 13,
   "metadata": {},
   "outputs": [
    {
     "data": {
      "text/plain": [
       "[1, 3]"
      ]
     },
     "execution_count": 13,
     "metadata": {},
     "output_type": "execute_result"
    }
   ],
   "source": [
    "solution(today, terms, privacies)"
   ]
  },
  {
   "cell_type": "code",
   "execution_count": null,
   "metadata": {},
   "outputs": [],
   "source": []
  }
 ],
 "metadata": {
  "kernelspec": {
   "display_name": "Python 3",
   "language": "python",
   "name": "python3"
  },
  "language_info": {
   "codemirror_mode": {
    "name": "ipython",
    "version": 3
   },
   "file_extension": ".py",
   "mimetype": "text/x-python",
   "name": "python",
   "nbconvert_exporter": "python",
   "pygments_lexer": "ipython3",
   "version": "3.11.9"
  }
 },
 "nbformat": 4,
 "nbformat_minor": 2
}
