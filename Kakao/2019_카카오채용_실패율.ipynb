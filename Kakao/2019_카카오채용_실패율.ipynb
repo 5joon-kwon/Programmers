{
 "cells": [
  {
   "cell_type": "code",
   "execution_count": 6,
   "metadata": {},
   "outputs": [],
   "source": [
    "def solution(N, stages):\n",
    "    rate = []\n",
    "    for i in range(N):\n",
    "        rate.append(stages.count(i+1))\n",
    "    \n",
    "    fail_rate = []\n",
    "    stage_tot = len(stages)\n",
    "    for i in range(len(rate)): \n",
    "        if stage_tot == 0:\n",
    "            fail_rate.append([i+1, 0])\n",
    "        else:\n",
    "            fail = rate[i] / stage_tot\n",
    "            fail_rate.append([i+1,fail])\n",
    "        stage_tot -= rate[i]   \n",
    "    \n",
    "    sort_rate = sorted(fail_rate, key = lambda x : x[1], reverse = True)\n",
    "    \n",
    "    answer = []\n",
    "    for i in sort_rate:\n",
    "        answer.append(i[0])\n",
    "        \n",
    "    return answer"
   ]
  },
  {
   "cell_type": "code",
   "execution_count": 8,
   "metadata": {},
   "outputs": [
    {
     "data": {
      "text/plain": [
       "[3, 4, 2, 1, 5]"
      ]
     },
     "execution_count": 8,
     "metadata": {},
     "output_type": "execute_result"
    }
   ],
   "source": [
    "solution(5, [2, 1, 2, 6, 2, 4, 3, 3])"
   ]
  }
 ],
 "metadata": {
  "kernelspec": {
   "display_name": "Python 3",
   "language": "python",
   "name": "python3"
  },
  "language_info": {
   "codemirror_mode": {
    "name": "ipython",
    "version": 3
   },
   "file_extension": ".py",
   "mimetype": "text/x-python",
   "name": "python",
   "nbconvert_exporter": "python",
   "pygments_lexer": "ipython3",
   "version": "3.11.9"
  }
 },
 "nbformat": 4,
 "nbformat_minor": 2
}
