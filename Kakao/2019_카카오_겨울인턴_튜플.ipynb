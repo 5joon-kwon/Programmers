{
 "cells": [
  {
   "cell_type": "code",
   "execution_count": 1,
   "metadata": {},
   "outputs": [],
   "source": [
    "def solution(s):\n",
    "    s = s.replace('{', '')\n",
    "    s = s.replace('}','') \n",
    "    num_list = s.split(',') # 복잡한 문자열을 숫자만 들어있는 list로 바꿔줌\n",
    "    \n",
    "    s_set = set(num_list)   # 집합은 중복을 허락하지 않아 숫자의 종류를 파악하기 용이\n",
    "\n",
    "    s_dic = {}              # 튜플의 원소 : 개수 를 dictionary로 표현\n",
    "    for i in s_set:\n",
    "        count = num_list.count(i)\n",
    "        s_dic[i] = count\n",
    "        \n",
    "    s_dic = sorted(s_dic, key = lambda x : s_dic[x], reverse = True) # value 기준 정렬\n",
    "    \n",
    "    answer = list(map(int, s_dic))  # int 형태의 list로 변환\n",
    "    \n",
    "    return answer"
   ]
  },
  {
   "cell_type": "code",
   "execution_count": 3,
   "metadata": {},
   "outputs": [
    {
     "data": {
      "text/plain": [
       "[2, 1, 3, 4]"
      ]
     },
     "execution_count": 3,
     "metadata": {},
     "output_type": "execute_result"
    }
   ],
   "source": [
    "solution(\"{{2},{2,1},{2,1,3},{2,1,3,4}}\")"
   ]
  }
 ],
 "metadata": {
  "kernelspec": {
   "display_name": "Python 3",
   "language": "python",
   "name": "python3"
  },
  "language_info": {
   "codemirror_mode": {
    "name": "ipython",
    "version": 3
   },
   "file_extension": ".py",
   "mimetype": "text/x-python",
   "name": "python",
   "nbconvert_exporter": "python",
   "pygments_lexer": "ipython3",
   "version": "3.11.9"
  }
 },
 "nbformat": 4,
 "nbformat_minor": 2
}
