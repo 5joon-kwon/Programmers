{
 "cells": [
  {
   "cell_type": "code",
   "execution_count": 1,
   "metadata": {},
   "outputs": [],
   "source": [
    "def solution(n, k):\n",
    "    kdigit = ''\n",
    "    count = 0\n",
    "    \n",
    "    while n > 0:                    # 몫 > 0 까지\n",
    "        n, mod = divmod(n, k)       # n을 k로 나눠서 몫 = n, 나머지 = k\n",
    "        kdigit = str(mod) + kdigit  # '1' + '1110' 처럼 left에 붙여주기\n",
    "        \n",
    "    digit_list = kdigit.split('0')  # '0'으로 split\n",
    "    for i in digit_list:\n",
    "        if i and is_prime(int(i)):  # 소수판별\n",
    "            count += 1\n",
    "            \n",
    "    return count\n",
    "\n",
    "def is_prime(num):\n",
    "    if num < 2:                     # 1은 소수 아님\n",
    "        return False\n",
    "\n",
    "    for i in range(2,int(num ** 0.5) + 1): # 2부터 어떤 수의 제곱근까지 약수가 있으면 소수 x\n",
    "        if num % i == 0:\n",
    "            return False\n",
    "        \n",
    "    return True\n",
    "            "
   ]
  },
  {
   "cell_type": "code",
   "execution_count": 2,
   "metadata": {},
   "outputs": [
    {
     "data": {
      "text/plain": [
       "3"
      ]
     },
     "execution_count": 2,
     "metadata": {},
     "output_type": "execute_result"
    }
   ],
   "source": [
    "solution(437674, 3)"
   ]
  }
 ],
 "metadata": {
  "kernelspec": {
   "display_name": "Python 3",
   "language": "python",
   "name": "python3"
  },
  "language_info": {
   "codemirror_mode": {
    "name": "ipython",
    "version": 3
   },
   "file_extension": ".py",
   "mimetype": "text/x-python",
   "name": "python",
   "nbconvert_exporter": "python",
   "pygments_lexer": "ipython3",
   "version": "3.11.9"
  }
 },
 "nbformat": 4,
 "nbformat_minor": 2
}
