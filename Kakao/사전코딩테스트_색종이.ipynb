{
 "cells": [
  {
   "cell_type": "code",
   "execution_count": 35,
   "metadata": {},
   "outputs": [
    {
     "name": "stdout",
     "output_type": "stream",
     "text": [
      "260\n",
      "336\n"
     ]
    }
   ],
   "source": [
    "T = int(input())\t\t\t\t\t\t\t\t\t# testcase\n",
    "\n",
    "for i in range(T):\n",
    "\tcordinate = [[0] * 100 for _ in range(100)]\t\t# 100x100 리스트 0으로 초기화\n",
    "\tN = int(input())\t\t\t\t\t\t\t\t# 색종이 개수\n",
    "\tfor j in range(N):\t\t\t\t\t\t\t\t\n",
    "\t\tx, y = list(map(int, input().split(' ')))\t# x,y축 떨어진 정도\n",
    "\t\tfor k in range(x,x+10):\t\t\t\t\t\t# x ~ x + 9 에 1 채우기\n",
    "\t\t\tfor q in range(y,y+10):\t\t\t\t\t# y ~ x + 9 에 1 채우기\n",
    "\t\t\t\tcordinate[k][q] = 1\n",
    "\tcount = 0\n",
    "\tfor z in range(100):\n",
    "\t\tcount += cordinate[z].count(1)\t\t\t\t# 1의 개수 = 색종이 넓이\n",
    "\tprint(count)\n"
   ]
  }
 ],
 "metadata": {
  "kernelspec": {
   "display_name": "Python 3",
   "language": "python",
   "name": "python3"
  },
  "language_info": {
   "codemirror_mode": {
    "name": "ipython",
    "version": 3
   },
   "file_extension": ".py",
   "mimetype": "text/x-python",
   "name": "python",
   "nbconvert_exporter": "python",
   "pygments_lexer": "ipython3",
   "version": "3.11.9"
  }
 },
 "nbformat": 4,
 "nbformat_minor": 2
}
