{
 "cells": [
  {
   "cell_type": "code",
   "execution_count": 1,
   "metadata": {},
   "outputs": [],
   "source": [
    "def solution(n, arr1, arr2):\n",
    "    bin1 = []\n",
    "    bin2 = []\n",
    "    for i in arr1:\n",
    "        bin1.append(format(i, 'b'))\n",
    "    for i in arr2:\n",
    "        bin2.append(format(i, 'b'))\n",
    "    \n",
    "    bin3 = []\n",
    "    bin4 = []\n",
    "    for i in bin1:\n",
    "        if len(i) < n:\n",
    "                for j in range(n - len(i)):\n",
    "                    i = '0' + i\n",
    "        bin3.append(i)     \n",
    "        \n",
    "    for i in bin2:\n",
    "        if len(i) < n:\n",
    "                for j in range(n - len(i)):\n",
    "                    i = '0' + i\n",
    "        bin4.append(i) \n",
    "    \n",
    "    final = []\n",
    "    for i,j in zip(bin3, bin4):\n",
    "        fin = ''\n",
    "        for k in range(len(i)):\n",
    "            if(i[k] == '0' and j[k] == '0'):\n",
    "                fin += ' '\n",
    "            else:\n",
    "                fin += '#'\n",
    "        final.append(fin)\n",
    "\n",
    "    return final"
   ]
  },
  {
   "cell_type": "code",
   "execution_count": 2,
   "metadata": {},
   "outputs": [],
   "source": [
    "n = 5\n",
    "arr1 = [9, 20, 28, 18, 11]\n",
    "arr2 = [30, 1, 21, 17, 28]"
   ]
  },
  {
   "cell_type": "code",
   "execution_count": 3,
   "metadata": {},
   "outputs": [
    {
     "data": {
      "text/plain": [
       "['#####', '# # #', '### #', '#  ##', '#####']"
      ]
     },
     "execution_count": 3,
     "metadata": {},
     "output_type": "execute_result"
    }
   ],
   "source": [
    "solution(n, arr1, arr2)"
   ]
  }
 ],
 "metadata": {
  "kernelspec": {
   "display_name": "Python 3",
   "language": "python",
   "name": "python3"
  },
  "language_info": {
   "codemirror_mode": {
    "name": "ipython",
    "version": 3
   },
   "file_extension": ".py",
   "mimetype": "text/x-python",
   "name": "python",
   "nbconvert_exporter": "python",
   "pygments_lexer": "ipython3",
   "version": "3.11.9"
  }
 },
 "nbformat": 4,
 "nbformat_minor": 2
}
