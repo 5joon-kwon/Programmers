{
 "cells": [
  {
   "cell_type": "code",
   "execution_count": 11,
   "metadata": {},
   "outputs": [],
   "source": [
    "from collections import deque\n",
    "\n",
    "def solution(queue1, queue2):\n",
    "    q1 = deque(queue1)\n",
    "    q2 = deque(queue2)\n",
    "    totq1 = sum(q1)\n",
    "    totq2 = sum(q2)\n",
    "    tot = totq1 + totq2\n",
    "    \n",
    "    count = 0\n",
    "    while totq1 != tot//2: # queue1만 생각하자\n",
    "        if totq1 < tot//2: # queue1 원소의 합 < tot // 2\n",
    "            num = q2.popleft()\n",
    "            q1.append(num)\n",
    "            totq1 += num\n",
    "        else:              # queue1 원소의 합 > tot // 2\n",
    "            num = q1.popleft()\n",
    "            totq1 -= num \n",
    "        count += 1\n",
    "        if not q2: # queue2에서는 pop만 진행. queue1 원소합만 생각하면 되기 때문\n",
    "            count = -1\n",
    "            break\n",
    "    return count"
   ]
  },
  {
   "cell_type": "code",
   "execution_count": 14,
   "metadata": {},
   "outputs": [
    {
     "data": {
      "text/plain": [
       "7"
      ]
     },
     "execution_count": 14,
     "metadata": {},
     "output_type": "execute_result"
    }
   ],
   "source": [
    "solution([1, 2, 1, 2],[1, 10, 1, 2])"
   ]
  }
 ],
 "metadata": {
  "kernelspec": {
   "display_name": "Python 3",
   "language": "python",
   "name": "python3"
  },
  "language_info": {
   "codemirror_mode": {
    "name": "ipython",
    "version": 3
   },
   "file_extension": ".py",
   "mimetype": "text/x-python",
   "name": "python",
   "nbconvert_exporter": "python",
   "pygments_lexer": "ipython3",
   "version": "3.11.9"
  }
 },
 "nbformat": 4,
 "nbformat_minor": 2
}
