{
 "cells": [
  {
   "cell_type": "code",
   "execution_count": 66,
   "metadata": {},
   "outputs": [],
   "source": [
    "def solution(survey, choices):\n",
    "    personal = [0,0,0,0,0,0,0,0]\n",
    "    for i, j in zip(survey, choices):\n",
    "        if i == \"RT\":\n",
    "            if j < 4:\n",
    "                personal[0] += 4 - j\n",
    "            elif j > 4:\n",
    "                personal[1] += j - 4\n",
    "                \n",
    "        elif i == \"TR\":\n",
    "            if j < 4:\n",
    "                personal[1] += 4 - j\n",
    "            elif j > 4:\n",
    "                personal[0] += j - 4\n",
    "            \n",
    "        elif i == \"CF\":\n",
    "            if j < 4:\n",
    "                personal[2] += 4 - j\n",
    "            elif j > 4:\n",
    "                personal[3] += j - 4\n",
    "            \n",
    "        elif i == \"FC\":\n",
    "            if j < 4:\n",
    "                personal[3] += 4 - j\n",
    "            elif j > 4:\n",
    "                personal[2] += j - 4\n",
    "                \n",
    "        elif i == \"JM\":\n",
    "            if j < 4:\n",
    "                personal[4] += 4 - j\n",
    "            elif j > 4:\n",
    "                personal[5] += j - 4 \n",
    "                \n",
    "        elif i == \"MJ\":\n",
    "            if j < 4:\n",
    "                personal[5] += 4 - j\n",
    "            elif j > 4:\n",
    "                personal[4] += j - 4\n",
    "            \n",
    "        elif i == \"AN\":\n",
    "            if j < 4:\n",
    "                personal[6] += 4 - j\n",
    "            elif j > 4:\n",
    "                personal[7] += j - 4\n",
    "            \n",
    "        else:\n",
    "            if j < 4:\n",
    "                personal[7] += 4 - j\n",
    "            elif j > 4:\n",
    "                personal[6] += j - 4\n",
    "\n",
    "    answer = ''\n",
    "    \n",
    "    if personal[0] >= personal[1]:\n",
    "        answer += 'R'\n",
    "    else:\n",
    "        answer += 'T'   \n",
    "    \n",
    "    if personal[2] >= personal[3]:\n",
    "        answer += 'C'\n",
    "    else:\n",
    "        answer += 'F'  \n",
    "        \n",
    "    if personal[4] >= personal[5]:\n",
    "        answer += 'J'\n",
    "    else:\n",
    "        answer += 'M'  \n",
    "        \n",
    "    if personal[6] >= personal[7]:\n",
    "        answer += 'A'\n",
    "    else:\n",
    "        answer += 'N'          \n",
    "    \n",
    "    return answer"
   ]
  },
  {
   "cell_type": "code",
   "execution_count": 67,
   "metadata": {},
   "outputs": [],
   "source": [
    "survey = [\"AN\", \"CF\", \"MJ\", \"RT\", \"NA\"]\n",
    "choices = [5, 3, 2, 7, 5]"
   ]
  },
  {
   "cell_type": "code",
   "execution_count": 68,
   "metadata": {},
   "outputs": [
    {
     "data": {
      "text/plain": [
       "'TCMA'"
      ]
     },
     "execution_count": 68,
     "metadata": {},
     "output_type": "execute_result"
    }
   ],
   "source": [
    "solution(survey, choices)"
   ]
  }
 ],
 "metadata": {
  "kernelspec": {
   "display_name": "Python 3",
   "language": "python",
   "name": "python3"
  },
  "language_info": {
   "codemirror_mode": {
    "name": "ipython",
    "version": 3
   },
   "file_extension": ".py",
   "mimetype": "text/x-python",
   "name": "python",
   "nbconvert_exporter": "python",
   "pygments_lexer": "ipython3",
   "version": "3.11.9"
  }
 },
 "nbformat": 4,
 "nbformat_minor": 2
}
