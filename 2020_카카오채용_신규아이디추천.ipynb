{
 "cells": [
  {
   "cell_type": "code",
   "execution_count": 25,
   "metadata": {},
   "outputs": [],
   "source": [
    "def solution(new_id):\n",
    "    lower_id = new_id.lower()\n",
    "    elim = \"\"\n",
    "    \n",
    "    for i in lower_id:\n",
    "        if((i.isalpha() != True and i.isdigit() != True) and i not in ['-', '_', '.']):\n",
    "            i = ''\n",
    "            elim += i\n",
    "        else:\n",
    "            elim += i      \n",
    "            \n",
    "    while(\"..\" in elim):\n",
    "        elim = elim.replace(\"..\", \".\")        \n",
    "\n",
    "    elim_id = elim.strip('.')\n",
    "    \n",
    "    if(elim_id == ''):\n",
    "        elim_id += 'a'\n",
    "    \n",
    "    if(len(elim_id) > 15):\n",
    "        elim_id = elim_id[:15]\n",
    "        elim_id = elim_id.strip('.')\n",
    "    \n",
    "    while(len(elim_id) < 3):\n",
    "        elim_id += elim_id[-1]\n",
    "            \n",
    "    answer = elim_id\n",
    "    \n",
    "    return answer"
   ]
  },
  {
   "cell_type": "code",
   "execution_count": 26,
   "metadata": {},
   "outputs": [
    {
     "name": "stdout",
     "output_type": "stream",
     "text": [
      "a.b\n"
     ]
    }
   ],
   "source": [
    "print(solution(\"a...b\"))"
   ]
  },
  {
   "cell_type": "code",
   "execution_count": null,
   "metadata": {},
   "outputs": [],
   "source": []
  }
 ],
 "metadata": {
  "kernelspec": {
   "display_name": "Python 3",
   "language": "python",
   "name": "python3"
  },
  "language_info": {
   "codemirror_mode": {
    "name": "ipython",
    "version": 3
   },
   "file_extension": ".py",
   "mimetype": "text/x-python",
   "name": "python",
   "nbconvert_exporter": "python",
   "pygments_lexer": "ipython3",
   "version": "3.11.9"
  }
 },
 "nbformat": 4,
 "nbformat_minor": 2
}
