{
 "cells": [
  {
   "cell_type": "code",
   "execution_count": 90,
   "metadata": {},
   "outputs": [
    {
     "name": "stdout",
     "output_type": "stream",
     "text": [
      "[1, 3, 4, 5, 8, 2, 1, 4, 5, 9, 5]\n"
     ]
    }
   ],
   "source": [
    "numbers = [1, 3, 4, 5, 8, 2, 1, 4, 5, 9, 5]\n",
    "hand = \"right\"\n",
    "\n",
    "print(numbers)"
   ]
  },
  {
   "cell_type": "code",
   "execution_count": 93,
   "metadata": {},
   "outputs": [],
   "source": [
    "def solution(numbers, hand):\n",
    "    \n",
    "    keypad = {\n",
    "    1:[0,0], 2:[0,1], 3:[0,2],\n",
    "    4:[1,0], 5:[1,1], 6:[1,2],\n",
    "    7:[2,0], 8:[2,1], 9:[2,2],\n",
    "    '*':[3,0], 0:[3,1], '#':[3,2],\n",
    "    }\n",
    "    \n",
    "    li = keypad['*']\n",
    "    ri = keypad['#']\n",
    "    result = \"\"\n",
    "\n",
    "    for i in numbers:\n",
    "        if(i == 1 or i == 4 or i == 7):\n",
    "            li = keypad[i]\n",
    "            result += 'L'\n",
    "        elif(i == 3 or i == 6 or i == 9):\n",
    "            ri = keypad[i]\n",
    "            result += 'R'\n",
    "        else:\n",
    "            left_distance = abs(li[0] - keypad[i][0]) + abs(li[1] - keypad[i][1])\n",
    "            right_distance = abs(ri[0] - keypad[i][0]) + abs(ri[1] - keypad[i][1])\n",
    "            \n",
    "            if(left_distance > right_distance):\n",
    "                ri = keypad[i]\n",
    "                result += 'R'\n",
    "            elif(left_distance < right_distance):\n",
    "                li = keypad[i]\n",
    "                result += 'L'\n",
    "            else:\n",
    "                if(hand == \"left\"):\n",
    "                    li = keypad[i]\n",
    "                    result += 'L'\n",
    "                else:\n",
    "                    ri = keypad[i]\n",
    "                    result += 'R'\n",
    "                    \n",
    "    return result"
   ]
  },
  {
   "cell_type": "code",
   "execution_count": 94,
   "metadata": {},
   "outputs": [
    {
     "data": {
      "text/plain": [
       "'LRLLLRLLLRL'"
      ]
     },
     "execution_count": 94,
     "metadata": {},
     "output_type": "execute_result"
    }
   ],
   "source": [
    "solution(numbers, hand)"
   ]
  },
  {
   "cell_type": "code",
   "execution_count": null,
   "metadata": {},
   "outputs": [],
   "source": []
  }
 ],
 "metadata": {
  "kernelspec": {
   "display_name": "Python 3",
   "language": "python",
   "name": "python3"
  },
  "language_info": {
   "codemirror_mode": {
    "name": "ipython",
    "version": 3
   },
   "file_extension": ".py",
   "mimetype": "text/x-python",
   "name": "python",
   "nbconvert_exporter": "python",
   "pygments_lexer": "ipython3",
   "version": "3.11.9"
  }
 },
 "nbformat": 4,
 "nbformat_minor": 2
}
