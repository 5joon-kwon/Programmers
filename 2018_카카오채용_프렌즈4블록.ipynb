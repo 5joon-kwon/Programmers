{
 "cells": [
  {
   "cell_type": "code",
   "execution_count": 11,
   "metadata": {},
   "outputs": [],
   "source": [
    "def solution(m, n, board):\n",
    "    board2 = []\n",
    "    location = set()\n",
    "    block = 0\n",
    "    for i in board:\n",
    "        board2.append(list(i))   \n",
    "    \n",
    "    while True:\n",
    "        for i in range(m - 1): # 끝열 전까지\n",
    "            for j in range(n - 1):  # 끝행 전까지\n",
    "                if board2[i][j] == '':\n",
    "                    continue\n",
    "                elif board2[i][j] == board2[i][j+1] == board2[i+1][j] == board2[i+1][j+1]:\n",
    "                    location.update([(i,j),(i,j+1),(i+1,j),(i+1,j+1)]) # 4개 같으면 좌표 추가\n",
    "                    # set(집합)은 중복이 안되므로 유용함\n",
    "        if location:                # 4개 이상 같은 블록이 한번도 없으면 실행 x\n",
    "            block += len(location)  # 있다면 좌표의 길이가 곧 같은 블록의 수\n",
    "            for i, j in location:\n",
    "                board2[i][j] = ''   # 좌표의 값을 빈 문자열로 두기\n",
    "            location = set()        # 위의 과정 다시 진행하기 위해 집합 초기화\n",
    "        else:\n",
    "            break\n",
    "        \n",
    "        while True:                 # 빈 곳에 블록 내리기\n",
    "            move = 0                # 블록이 움직였는지 확인하기 위한 flag\n",
    "            for i in range(m - 1):  # 끝열 전까지만 확인\n",
    "                for j in range(n):  # 모든 행 다 봐야함\n",
    "                    if board2[i][j] != '' and board2[i+1][j] == '':\n",
    "                        # 현재 위치가 문자고, 다음 열이 비어있다면\n",
    "                        board2[i][j], board2[i+1][j] = board2[i+1][j], board2[i][j]\n",
    "                        # 둘의 위치 바꾸기\n",
    "                        move = 1    # 변경 사항 있다고 flag 바꾸기\n",
    "            if move == 0:   # 변동이 없다면 종료\n",
    "                break\n",
    "    \n",
    "    return block"
   ]
  },
  {
   "cell_type": "code",
   "execution_count": 12,
   "metadata": {},
   "outputs": [
    {
     "data": {
      "text/plain": [
       "15"
      ]
     },
     "execution_count": 12,
     "metadata": {},
     "output_type": "execute_result"
    }
   ],
   "source": [
    "solution(6,6,[\"TTTANT\", \"RRFACC\", \"RRRFCC\", \"TRRRAA\", \"TTMMMF\", \"TMMTTJ\"])"
   ]
  }
 ],
 "metadata": {
  "kernelspec": {
   "display_name": "Python 3",
   "language": "python",
   "name": "python3"
  },
  "language_info": {
   "codemirror_mode": {
    "name": "ipython",
    "version": 3
   },
   "file_extension": ".py",
   "mimetype": "text/x-python",
   "name": "python",
   "nbconvert_exporter": "python",
   "pygments_lexer": "ipython3",
   "version": "3.11.9"
  }
 },
 "nbformat": 4,
 "nbformat_minor": 2
}
