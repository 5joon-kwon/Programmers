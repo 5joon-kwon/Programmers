{
 "cells": [
  {
   "cell_type": "code",
   "execution_count": null,
   "metadata": {},
   "outputs": [],
   "source": [
    "def solution(N, episode):\n",
    "\tepisode.sort()\n",
    "\t\n",
    "\tfor i in range(N - 1):\n",
    "\t\tif episode[i]+1 != episode[i+1]:\n",
    "\t\t\tanswer = 'NO'\n",
    "\t\t\tbreak\n",
    "\t\tanswer = \"YES\"\n",
    "\t\n",
    "\tprint(answer)\n",
    "\n",
    "N = int(input())\n",
    "episode = list(map(int,input().split(' ')))\n",
    "solution(N, episode)"
   ]
  }
 ],
 "metadata": {
  "language_info": {
   "name": "python"
  }
 },
 "nbformat": 4,
 "nbformat_minor": 2
}
