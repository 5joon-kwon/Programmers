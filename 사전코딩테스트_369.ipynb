{
 "cells": [
  {
   "cell_type": "code",
   "execution_count": null,
   "metadata": {},
   "outputs": [],
   "source": [
    "N, E, C = list(map(int, input().split(' ')))\n",
    "\n",
    "li = ''\n",
    "count = 0\n",
    "\n",
    "for i in range(1,E+1):\n",
    "\tif i == C:\n",
    "\t\tli += str(i)\n",
    "\t\tC += N\n",
    "\n",
    "count += li.count('3')\n",
    "count += li.count('6')\n",
    "count += li.count('9')\n",
    "\n",
    "print(count)"
   ]
  }
 ],
 "metadata": {
  "language_info": {
   "name": "python"
  }
 },
 "nbformat": 4,
 "nbformat_minor": 2
}
